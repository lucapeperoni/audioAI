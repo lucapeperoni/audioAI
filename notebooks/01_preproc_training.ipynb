{
 "cells": [
  {
   "cell_type": "code",
   "execution_count": 9,
   "id": "bd048eda",
   "metadata": {},
   "outputs": [
    {
     "name": "stdout",
     "output_type": "stream",
     "text": [
      "WAV da convertire: 1000\n"
     ]
    }
   ],
   "source": [
    "import librosa, torch, pathlib, numpy as np\n",
    "from tqdm import tqdm\n",
    "\n",
    "# percorso ai .wav originali\n",
    "ROOT = pathlib.Path('../data/raw/genres')   #  .. = sali di una cartella\n",
    "# cartella di destinazione per i tensori .pt\n",
    "OUT  = pathlib.Path('../data/processed')\n",
    "OUT.mkdir(parents=True, exist_ok=True)\n",
    "\n",
    "print(\"WAV da convertire:\", len(list(ROOT.rglob('*.wav'))))"
   ]
  },
  {
   "cell_type": "code",
   "execution_count": 10,
   "id": "8c6eee6c",
   "metadata": {},
   "outputs": [
    {
     "name": "stderr",
     "output_type": "stream",
     "text": [
      "Mel-spectrograms:  94%|█████████▍| 942/1000 [00:11<00:00, 79.62it/s]/var/folders/kf/8f7ds_x17c9b53gd9dq5n8pc0000gn/T/ipykernel_9367/3085427474.py:8: UserWarning: PySoundFile failed. Trying audioread instead.\n",
      "  y, _ = librosa.load(str(wav), sr=22_050, mono=True)\n",
      "Mel-spectrograms:  96%|█████████▌| 960/1000 [00:12<00:00, 80.23it/s]"
     ]
    },
    {
     "name": "stdout",
     "output_type": "stream",
     "text": [
      "⚠️  Salto file corrotto: jazz.00054.wav  ()\n"
     ]
    },
    {
     "name": "stderr",
     "output_type": "stream",
     "text": [
      "Mel-spectrograms: 100%|██████████| 1000/1000 [00:12<00:00, 78.84it/s]"
     ]
    },
    {
     "name": "stdout",
     "output_type": "stream",
     "text": [
      "\n",
      "--- Pre-processing completato ---\n",
      "File corrotti saltati: 1\n",
      "Elenco: ['jazz.00054.wav']\n"
     ]
    },
    {
     "name": "stderr",
     "output_type": "stream",
     "text": [
      "\n"
     ]
    }
   ],
   "source": [
    "# Seconda cella – conversione WAV → Mel tensor (.pt) con skip dei file corrotti\n",
    "\n",
    "bad_files = []   # terrà i nomi dei WAV che non si riescono a leggere\n",
    "\n",
    "for wav in tqdm(list(ROOT.rglob(\"*.wav\")), desc=\"Mel-spectrograms\"):\n",
    "    # 1) carica audio mono a 22 050 Hz\n",
    "    try:\n",
    "        y, _ = librosa.load(str(wav), sr=22_050, mono=True)\n",
    "    except Exception as e:\n",
    "        print(f\"⚠️  Salto file corrotto: {wav.name}  ({e})\")\n",
    "        bad_files.append(wav.name)\n",
    "        continue                           # passa al file successivo\n",
    "\n",
    "    # 2) spettrogramma Mel 128 × T\n",
    "    spec = librosa.feature.melspectrogram(\n",
    "        y=y, sr=22_050,\n",
    "        n_fft=2048, hop_length=512,\n",
    "        n_mels=128, fmin=20, fmax=11_000\n",
    "    )\n",
    "\n",
    "    # 3) scala log (dB)\n",
    "    spec_db = librosa.power_to_db(spec, ref=np.max)\n",
    "\n",
    "    # 4) tensor 1 × 128 × 128 (pad o crop se necessario)\n",
    "    if spec_db.shape[1] < 128:                              # clip troppo corta\n",
    "        spec_db = np.pad(spec_db, ((0, 0), (0, 128 - spec_db.shape[1])),\n",
    "                         mode=\"constant\")\n",
    "    spec_db = spec_db[:, :128]                              # clip troppo lunga\n",
    "    tensor = torch.tensor(spec_db, dtype=torch.float32).unsqueeze(0)\n",
    "\n",
    "    # 5) salva\n",
    "    torch.save(tensor, OUT / f\"{wav.stem}.pt\")\n",
    "\n",
    "print(\"\\n--- Pre-processing completato ---\")\n",
    "print(\"File corrotti saltati:\", len(bad_files))\n",
    "if bad_files:\n",
    "    print(\"Elenco:\", bad_files)\n"
   ]
  }
 ],
 "metadata": {
  "kernelspec": {
   "display_name": "audioAI",
   "language": "python",
   "name": "python3"
  },
  "language_info": {
   "codemirror_mode": {
    "name": "ipython",
    "version": 3
   },
   "file_extension": ".py",
   "mimetype": "text/x-python",
   "name": "python",
   "nbconvert_exporter": "python",
   "pygments_lexer": "ipython3",
   "version": "3.11.13"
  }
 },
 "nbformat": 4,
 "nbformat_minor": 5
}
